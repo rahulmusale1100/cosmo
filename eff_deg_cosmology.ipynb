{
 "cells": [
  {
   "cell_type": "code",
   "execution_count": 105,
   "metadata": {},
   "outputs": [],
   "source": [
    "#-------------------------------------------------------------------------------------------\n",
    "from scipy.integrate import quad\n",
    "from scipy.special import zeta\n",
    "\n",
    "class early_universe_particle:\n",
    "\n",
    "    # mass_in_GeV: (m_X c^2)/GeV\n",
    "    def __init__(self, mass_in_GeV, boson=True):\n",
    "        self.mass_in_Gev = mass_in_GeV\n",
    "        self.boson = boson\n",
    "        self.zeta3 = zeta(3)\n",
    "\n",
    "    # T_in_GeV: (k_B T)/GeV\n",
    "    def effective_dof_n(self, T_in_GeV):\n",
    "        curlyM = self.mass_in_Gev/T_in_GeV\n",
    "\n",
    "        #  number density effective degrees of freedom\n",
    "        def dnx_integ(curlyE):\n",
    "            if self.boson:\n",
    "                return curlyE*np.sqrt(curlyE**2-curlyM**2)/(np.exp(curlyE)-1)\n",
    "            else:\n",
    "                return curlyE*np.sqrt(curlyE**2-curlyM**2)/(np.exp(curlyE)+1)\n",
    "\n",
    "        res, err = quad(dnx_integ, curlyM, np.inf)\n",
    "\n",
    "        return res/2./self.zeta3\n",
    "\n",
    "#-----------------------------------------------------------------------------------------------------\n",
    "    #  energy density effective degrees of freedom\n",
    "    def effective_dof_eps(self, T_in_GeV):\n",
    "        curlyM = self.mass_in_Gev/T_in_GeV\n",
    "        def dnx_integ1(curlyE):\n",
    "            if self.boson:\n",
    "                return (curlyE**2)*(np.sqrt(curlyE**2-curlyM**2)/(np.exp(curlyE)-1))\n",
    "            else:\n",
    "                return (curlyE**2)*np.sqrt(curlyE**2-curlyM**2)/(np.exp(curlyE)+1)\n",
    "        res1, err = quad(dnx_integ1, curlyM, np.inf)\n",
    "        k=15/(3.14**4)\n",
    "        return res1*k\n",
    "            \n",
    "\n",
    "\n",
    "  #----------------------------------------------------------------------------------------------      \n",
    "# pressure density effective degrees of freedom\n",
    "    def effective_dof_p(self, T_in_GeV):\n",
    "        curlyM = self.mass_in_Gev/T_in_GeV\n",
    "        def dnx_integ2(curlyE):\n",
    "            if self.boson:\n",
    "                return ((curlyE**2-curlyM**2)**(3/2))/(np.exp(curlyE)-1)\n",
    "            else:\n",
    "                return ((curlyE**2-curlyM**2)**(3/2))/(np.exp(curlyE)+1)\n",
    "        res2, err = quad(dnx_integ2, curlyM, np.inf)\n",
    "        k=15/(3.14**4)\n",
    "        return res2*k\n",
    "\n",
    "#--------------------------------------------------------------------------------------------------------        \n",
    " #  entropy density effective degrees of freedom        \n",
    "    def effective_dof_s(self, T_in_GeV):\n",
    "        if self.boson:\n",
    "            return (self.effective_dof_p(T_in_GeV) + 3*self.effective_dof_eps(T_in_GeV))/4\n",
    "        else:\n",
    "            return (self.effective_dof_p(T_in_GeV) + 3*self.effective_dof_eps(T_in_GeV))/4\n",
    "            "
   ]
  },
  {
   "cell_type": "code",
   "execution_count": null,
   "metadata": {},
   "outputs": [],
   "source": []
  },
  {
   "cell_type": "code",
   "execution_count": 106,
   "metadata": {},
   "outputs": [
    {
     "name": "stderr",
     "output_type": "stream",
     "text": [
      "<ipython-input-105-f24fd8094315>:20: RuntimeWarning: overflow encountered in exp\n",
      "  return curlyE*np.sqrt(curlyE**2-curlyM**2)/(np.exp(curlyE)-1)\n",
      "<ipython-input-105-f24fd8094315>:34: RuntimeWarning: overflow encountered in exp\n",
      "  return (curlyE**2)*(np.sqrt(curlyE**2-curlyM**2)/(np.exp(curlyE)-1))\n"
     ]
    }
   ],
   "source": [
    "import numpy as np\n",
    "\n",
    "boson_mass_GeV = 124.97\n",
    "#fermion_mass_GeV = 172\n",
    "boson = early_universe_particle(boson_mass_GeV, boson=True)\n",
    "#fermion = early_universe_particle(fermion_mass_GeV, boson=False)\n",
    "\n",
    "Temperature = np.logspace(-1.0, 1.0, 50)*boson_mass_GeV\n",
    "#Temperature_fermion = np.logspace(-1.0, 1.0, 50)*fermion_mass_GeV   #why multiply with mass? to give temp unit?\n",
    "gstar_n_boson = Temperature*0.0\n",
    "#gstar_n_fermion = Temperature*0.0\n",
    "gstar_eps_boson = Temperature*0.0\n",
    "#gstar_eps_fermion = Temperature*0.0\n",
    "#gstar_p_boson = Temperature*0.0\n",
    "#gstar_p_fermion = Temperature*0.0\n",
    "#gstar_s_boson = Temperature*0.0\n",
    "#gstar_s_fermion = Temperature*0.0\n",
    "for ii in range(gstar_n_boson.size):          # change according to whether particle is boson or fermion\n",
    "    gstar_n_boson[ii] = boson.effective_dof_n(Temperature[ii])\n",
    "    #gstar_n_fermion[ii] = fermion.effective_dof_n(Temperature_fermion[ii])\n",
    "\n",
    "    gstar_eps_boson[ii] = boson.effective_dof_eps(Temperature[ii])\n",
    " #   gstar_eps_fermion[ii] = fermion.effective_dof_eps(Temperature_fermion[ii])\n",
    "    \n",
    "  #  gstar_p_boson[ii] = boson.effective_dof_p(Temperature[ii])\n",
    "   # gstar_p_fermion[ii] = fermion.effective_dof_p(Temperature_fermion[ii])\n",
    "    \n",
    "   # gstar_s_boson[ii] = (boson.effective_dof_s(Temperature[ii]))\n",
    "   # gstar_s_fermion[ii] = (fermion.effective_dof_s(Temperature_fermion[ii]))"
   ]
  },
  {
   "cell_type": "code",
   "execution_count": 107,
   "metadata": {},
   "outputs": [
    {
     "data": {
      "text/plain": [
       "Text(10, 0.875, '7/8')"
      ]
     },
     "execution_count": 107,
     "metadata": {},
     "output_type": "execute_result"
    },
    {
     "data": {
      "image/png": "[encoded data removed]",
      "text/plain": [
       "<Figure size 432x288 with 1 Axes>"
      ]
     },
     "metadata": {
      "needs_background": "light"
     },
     "output_type": "display_data"
    }
   ],
   "source": [
    "import pylab as pl\n",
    "#import matplotlib.pyplot as plt\n",
    "#plt.figure(figsize = (15,10))\n",
    "ax = pl.subplot(111)\n",
    "\n",
    "ax.plot(Temperature/boson_mass_GeV, gstar_n_boson)\n",
    "#ax.plot(Temperature_fermion/fermion_mass_GeV, gstar_n_fermion)\n",
    "ax.plot(Temperature/boson_mass_GeV, gstar_eps_boson)\n",
    "#ax.plot(Temperature_fermion/fermion_mass_GeV, gstar_eps_fermion)\n",
    "#ax.plot(Temperature/boson_mass_GeV, gstar_p_boson)\n",
    "#ax.plot(Temperature_fermion/fermion_mass_GeV, gstar_p_fermion)\n",
    "#ax.plot(Temperature/boson_mass_GeV, gstar_s_boson)\n",
    "#ax.plot(Temperature_fermion/fermion_mass_GeV, gstar_s_fermion)\n",
    "\n",
    "\n",
    "\n",
    "ax.set_xscale(\"log\")\n",
    "#ax.set_yscale(\"log\")\n",
    "ax.set_xlabel(r\"$\\frac{k_{\\rm B}T}{m_{\\rm X}c^2}$\")\n",
    "ax.axhline(7./8., color=\"orange\", linestyle=\"dashed\")\n",
    "ax.axhline(3./4., color=\"red\", linestyle=\"dashed\")\n",
    "ax.axhline(1.0, color=\"b\", linestyle=\"dashed\")\n",
    "ax.set_xlim([10, 0.05])\n",
    "ax.set_ylim([0, 1.05])\n",
    "ax.text(10,3/4,\"3/4\")\n",
    "ax.text(10,7/8,\"7/8\")\n",
    "#plt.show()"
   ]
  },
  {
   "cell_type": "code",
   "execution_count": 108,
   "metadata": {},
   "outputs": [
    {
     "name": "stdout",
     "output_type": "stream",
     "text": [
      "0.739577680156012\n"
     ]
    },
    {
     "name": "stderr",
     "output_type": "stream",
     "text": [
      "<ipython-input-105-f24fd8094315>:20: RuntimeWarning: overflow encountered in exp\n",
      "  return curlyE*np.sqrt(curlyE**2-curlyM**2)/(np.exp(curlyE)-1)\n"
     ]
    }
   ],
   "source": [
    " gstar_n_boson = boson.effective_dof_n(124.97)       #g*(number density)/g\n",
    " print(gstar_n_boson)   "
   ]
  },
  {
   "cell_type": "code",
   "execution_count": 109,
   "metadata": {},
   "outputs": [
    {
     "name": "stdout",
     "output_type": "stream",
     "text": [
      "0.6592595095107522\n"
     ]
    },
    {
     "name": "stderr",
     "output_type": "stream",
     "text": [
      "<ipython-input-105-f24fd8094315>:34: RuntimeWarning: overflow encountered in exp\n",
      "  return (curlyE**2)*(np.sqrt(curlyE**2-curlyM**2)/(np.exp(curlyE)-1))\n"
     ]
    }
   ],
   "source": [
    " gstar_eps_boson = boson.effective_dof_eps(0.5*124.97)       #g*(energy density)/g\n",
    " print(gstar_eps_boson)  "
   ]
  },
  {
   "cell_type": "code",
   "execution_count": null,
   "metadata": {},
   "outputs": [],
   "source": []
  }
 ],
 "metadata": {
  "kernelspec": {
   "display_name": "Python 3",
   "language": "python",
   "name": "python3"
  },
  "language_info": {
   "codemirror_mode": {
    "name": "ipython",
    "version": 3
   },
   "file_extension": ".py",
   "mimetype": "text/x-python",
   "name": "python",
   "nbconvert_exporter": "python",
   "pygments_lexer": "ipython3",
   "version": "3.8.12"
  }
 },
 "nbformat": 4,
 "nbformat_minor": 4
}
