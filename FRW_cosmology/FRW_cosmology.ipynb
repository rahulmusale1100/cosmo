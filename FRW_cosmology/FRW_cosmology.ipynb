{
 "cells": [
  {
   "cell_type": "code",
   "execution_count": 1,
   "metadata": {
    "slideshow": {
     "slide_type": "slide"
    },
    "tags": []
   },
   "outputs": [],
   "source": [
    "#--------------------------------------------------------------------------------------------------- \n",
    "\n",
    "import numpy as np\n",
    "from scipy.integrate import quad\n",
    "from scipy import optimize\n",
    "import math\n",
    "\n",
    "\n",
    "class cosmology:\n",
    "    def __init__(self, Omega_m, Omega_r, Omega_l, H0):\n",
    "        self.Omega_m = Omega_m\n",
    "        self.Omega_r = Omega_r   \n",
    "        self.Omega_l = Omega_l\n",
    "        self.H0 = H0\n",
    "\n",
    "        # Define the curvature based on the Friedmann equation evaluated at t=today.\n",
    "        self.Omega_k = 1 - Omega_m - Omega_r - Omega_l\n",
    "\n",
    "        self.a_max = self.max_scale_factor()\n",
    "        print(self.a_max, \"Maximum scale factor\")\n",
    "\n",
    "    def zofa(self, a):\n",
    "        return 1./a - 1.\n",
    "    #redshift to scale parameter\n",
    "    def aofz(self, z):\n",
    "        return 1/(1.+z)\n",
    "\n",
    "    # Define the RHS of the Friedmann equation\n",
    "    def Esqofa(self, a):\n",
    "        return (self.Omega_m*a**-3 + self.Omega_r*a**-4 + self.Omega_l + self.Omega_k*a**-2 )\n",
    "\n",
    "    # Define derivative of the RHS of the Friedmann equation\n",
    "    def Esqprimeofa(self, a):\n",
    "        return (-3.*self.Omega_m*a**-4 - 4.*self.Omega_r*a**-5 - 2.*self.Omega_k*a**-3 )\n",
    "\n",
    "    # Define the RHS of the Friedmann equation\n",
    "    def Eofa(self, a):\n",
    "        return (self.Omega_m*a**-3 + self.Omega_r*a**-4 + self.Omega_l + self.Omega_k*a**-2 )**0.5\n",
    "        \n",
    "\n",
    "    # Define derivative of the RHS of the Friedmann equation\n",
    "    def Eprimeofa(self, a):\n",
    "        return (-3*self.Omega_m*a**-4 - 4*self.Omega_r*a**-5 - 2*self.Omega_k*a**-3 )/(self.Omega_m*a**-3 + self.Omega_r*a**-4 + self.Omega_l + self.Omega_k*a**-2 )**0.5\n",
    "\n",
    "\n",
    "    # Define the time given a scale factor (time will be returned in units of 1/H0)\n",
    "    def compute_time_given_scale(self, a):\n",
    "        # Integrate the function \\int da/a/E(a) = \\int d(t/(1/H0))\n",
    "        def integrand(ap):\n",
    "            return 1/ap/self.Eofa(ap)\n",
    "        if a>self.a_max:\n",
    "            return np.nan\n",
    "        #answer=0\n",
    "        #print(\"ans\")\n",
    "        answer, error = quad(integrand, 1, a)\n",
    "        return answer\n",
    "\n",
    "    # Compute maximum scale factor if the Universe is closed based on the zero of Eofa\n",
    "    def max_scale_factor(self):\n",
    "        if self.Omega_k>=0:\n",
    "            return np.inf\n",
    "\n",
    "        # Compute the zero of the expansion factor\n",
    "        sol = optimize.root_scalar(self.Esqofa, x0=1.0, fprime=self.Esqprimeofa, method='newton')\n",
    "\n",
    "        if sol.flag == \"convergence error\":\n",
    "            sol.root = np.inf\n",
    "\n",
    "        return sol.root\n",
    "               #print(scale_arr)\n",
    "        \n",
    "#--------------------------------------------------------------------------------------------------------------\n",
    "#--------------------------------------------------------------------------------------------------------------\n",
    "    # chi = integration of [c da / a**2(adot/a)] from a to 1 \n",
    "    def chi(self, a):\n",
    "        def integrand(ap):\n",
    "            return ((3e5)/((ap**2)*self.H0*self.Eofa(ap))) \n",
    "        \n",
    "        if a>self.a_max:\n",
    "            return np.nan\n",
    "        x = 0\n",
    "        x, error = quad(integrand, a, 1)\n",
    "        return x \n",
    "\n",
    " #---------------------------------------------------------------------------------------------------------   \n",
    "    def fun_chi(self, a):\n",
    "        k= -(( self.Omega_k*(self.H0**2))/3e5)\n",
    "        #print(\"k=\", k)\n",
    "        if k>0:\n",
    "            R=math.sqrt(1.0/k)\n",
    "            #print(\"universe = positive curved\")\n",
    "            f= R*math.sin(self.chi(a)/R)\n",
    "        elif k==0:\n",
    "         #   print(\"universe= flat\")\n",
    "            f= self.chi(a)\n",
    "        else:\n",
    "            print(\"universe = negative curved\")\n",
    "            R=math.sqrt(-1/k)\n",
    "            f= R*(math.sinh(self.chi(a)/R))\n",
    "        #print(\"fun(chi)=\", f)\n",
    "        return f\n",
    "#--------------------------------------------------------------------------------------------------------------    \n",
    "    #Both angular diameter distance and luminosity distance\n",
    "    #Dangular=f(chi)*a\n",
    "    #Dlum=f(chi)/a\n",
    "    def angularandlum(self, a):\n",
    "        angular= a*self.fun_chi(a)\n",
    "        luminosity = angular*((1/a)**2) \n",
    "        print(\"angular diemeter distance=\",angular,\"mpc     \" \"luminosity distance=\",luminosity,\"mpc\")\n",
    "        return angular,luminosity\n",
    "#--------------------------------------------------------------------------------------------------------------\n",
    "    \n",
    "        #horizon distance in Mpc\n",
    "    def horizon(self, a):\n",
    "        def hori(ap):\n",
    "            return (3e5)/((ap**2)*self.H0*self.Eofa(ap)) \n",
    "        if a>self.a_max:\n",
    "            return np.nan\n",
    "        hulk = 0\n",
    "        hulk, error = quad(hori, 0, 1)\n",
    "        return hulk\n",
    "#----------------------------------------------------------------------------------------------------------------    \n",
    "   #age of universe for given scale factor  in year (taking scale factor a=1 for today)\n",
    "    def age(self, a):\n",
    "        H00=self.H0/3.08e19 # coverting from km/s/Mpc to 1/sec\n",
    "        t=self.compute_time_given_scale(a)/H00    #(t = 1/H0)\n",
    "        t1=t/(60*60*24*365)                       # seconds to year \n",
    "        t2=(13786758138.658695)+t1                #adjusting y axis \n",
    "        return t2\n",
    "#---------------------------------------------------------------------------------------------------------------    \n",
    " \n",
    "    #parsec to lightyear \n",
    "    def parsec_to_lightyear(self,p):\n",
    "        return p*3.26156\n",
    "    def ly_to_meter(self,ly):\n",
    "        return ly*9.461e+15\n",
    "#---------------------------------------------------------------------------------------------------------------    \n",
    "    #distance to redshift (put distance in Mpc)  ---- cosmological redshift ---(for dist << c/H0) \n",
    "    def dist_to_redshift(self, p): \n",
    "        return ((self.H0*p)/ 3e5)\n",
    "    \n",
    "#---------------------------------------------------------------------------------------------------------------    \n",
    "    \n",
    "    #angular diemeter distance in unit of Mpc\n",
    "    def angular(self, a):\n",
    "        angular= a*self.fun_chi(a)\n",
    "        return angular\n",
    "   #luminosity distance in unit Mpc \n",
    "    def lum(self, a):\n",
    "        luminosity = self.angular(a)*((1/a)**2) \n",
    "        return luminosity\n",
    "    \n",
    "    #angular size to linear size\n",
    "    #theta = \"theta(arcminute) :\"))         \n",
    "    #Dc = \"Dc(Mpc) :\"))\n",
    "    #z = (redshift :\"))\n",
    "    def size(self,theta,Dc,z): \n",
    "        lin_size = (theta*Dc*np.pi)/((1+z)*10800)\n",
    "        return print(lin_size,\"Mpc\")\n"
   ]
  },
  {
   "cell_type": "code",
   "execution_count": 11,
   "metadata": {},
   "outputs": [
    {
     "name": "stdout",
     "output_type": "stream",
     "text": [
      "inf Maximum scale factor\n"
     ]
    }
   ],
   "source": [
    "multiverse= cosmology(0.3089,0,0.6911,67.74)"
   ]
  },
  {
   "cell_type": "code",
   "execution_count": 12,
   "metadata": {},
   "outputs": [
    {
     "name": "stdout",
     "output_type": "stream",
     "text": [
      "[0.01       0.01029903 0.01059806 ... 2.99940194 2.99970097 3.        ]\n"
     ]
    }
   ],
   "source": [
    "scale_arr = np.linspace(1e-2, 3., 10000)\n",
    "print(scale_arr)\n",
    "\n",
    "#time_arr_flat = scale_arr*0.0\n",
    "arr_angular = scale_arr*0.0\n",
    "arr_lum = scale_arr*0.0\n",
    "time_arr_open = scale_arr*0.0\n",
    "for ii in range(scale_arr.size):\n",
    "    #time_arr_flat[ii] = multiverse.compute_time_given_scale(scale_arr[ii])\n",
    "    arr_angular[ii] = multiverse.angular(scale_arr[ii])\n",
    "    arr_lum[ii] = multiverse.lum(scale_arr[ii])\n",
    "    time_arr_open[ii] = multiverse.compute_time_given_scale(scale_arr[ii])"
   ]
  },
  {
   "cell_type": "code",
   "execution_count": 13,
   "metadata": {},
   "outputs": [
    {
     "name": "stdout",
     "output_type": "stream",
     "text": [
      "Populating the interactive namespace from numpy and matplotlib\n",
      "Populating the interactive namespace from numpy and matplotlib\n"
     ]
    }
   ],
   "source": [
    "\n",
    "import pylab as pl\n",
    "%pylab inline\n",
    "\n",
    "conf = %config InlineBackend.rc\n",
    "conf[\"figure.figsize\"] = (6, 6)\n",
    "conf['savefig.dpi']=100\n",
    "conf['font.serif'] = \"Computer Modern\"\n",
    "conf['font.sans-serif'] = \"Computer Modern\"\n",
    "conf['text.usetex']=True\n",
    "\n",
    "width = 600\n",
    "%config InlineBackend.rc\n",
    "%pylab inline\n"
   ]
  },
  {
   "cell_type": "code",
   "execution_count": null,
   "metadata": {},
   "outputs": [],
   "source": [
    "\n",
    "ax = pl.subplot(111)\n",
    "idx = ~(time_arr_open==0)\n",
    "ax.plot(scale_arr[idx],arr_angular[idx], label=\"angular diameter distance \")\n",
    "ax.plot(scale_arr[idx],arr_lum[idx], label=\"luminosity distsnce\")\n",
    "ax.set_xlabel(r\"scale factor a\")\n",
    "ax.set_ylabel(\"Angular diameter and Luminosity distance(Mpc)\")\n",
    "ax.axvline(0.0, color=\"k\", alpha=0.6)\n",
    "ax.legend()\n",
    "ax.set_xlim(0.0, 3)\n",
    "ax.set_ylim(-7000, 7000)\n",
    "ax.text(0.96,-7000,\"--------------today------------------------------------------------------------------------------\", rotation=90)\n"
   ]
  },
  {
   "cell_type": "code",
   "execution_count": null,
   "metadata": {},
   "outputs": [],
   "source": [
    "multiverse = cosmology(0.3,0,0.7,100)"
   ]
  },
  {
   "cell_type": "code",
   "execution_count": null,
   "metadata": {},
   "outputs": [],
   "source": [
    "\n",
    "scale_arr = np.linspace(1e-2, 300, 10000)\n",
    "arr_time = scale_arr*0.0\n",
    "for ii in range(scale_arr.size):\n",
    "    arr_time[ii] = multiverse.compute_time_given_scale(scale_arr[ii])"
   ]
  },
  {
   "cell_type": "code",
   "execution_count": null,
   "metadata": {},
   "outputs": [],
   "source": [
    "\n",
    "ax = pl.subplot(111)\n",
    "\n",
    "idx = ~(time_arr_closed==0)\n",
    "ax.plot(arr_time[idx],scale_arr[idx], label=\"scale factor a \")\n",
    "ax.plot(scale_arr[idx],arr_lum[idx], label=\"lum\")\n",
    "ax.set_xlabel(r\"time (1/H0)\")\n",
    "ax.set_ylabel(\"scale  factor a\")\n",
    "ax.axvline(0.0, color=\"k\", alpha=0.6)\n",
    "ax.legend()\n",
    "ax.set_xlim(-2, 10)\n",
    "ax.set_ylim(0, 30)\n",
    "ax.text(-0.5, 15, \"today\", rotation=90)\n"
   ]
  },
  {
   "cell_type": "code",
   "execution_count": null,
   "metadata": {},
   "outputs": [],
   "source": [
    "\n",
    "scale_arr = np.linspace(1e-2, 300, 10000)\n",
    "arr_time = scale_arr*0.0\n",
    "for ii in range(scale_arr.size):\n",
    "    arr_time[ii] = rahul.age(scale_arr[ii])"
   ]
  },
  {
   "cell_type": "code",
   "execution_count": null,
   "metadata": {},
   "outputs": [],
   "source": [
    "\n",
    "ax = pl.subplot(111)\n",
    "\n",
    "idx = ~(time_arr_closed==0)\n",
    "ax.plot(scale_arr[idx],arr_time[idx], label=\"age\")\n",
    "ax.set_xlabel(r\"scale factor a\")\n",
    "ax.set_ylabel(\"age in year\")\n",
    "ax.axvline(0.0, color=\"k\", alpha=0.6)\n",
    "ax.legend()\n",
    "ax.set_xlim(0, 5)\n",
    "ax.set_ylim(0,60000000000)\n",
    "ax.text(0.94, 0, \"----------------------------------------------------today---------------------------------------\", rotation=90)\n",
    "ax.text(0, 13786758138.658695, \"----------------------------------------------------13.78 Gyr--------------------------------------\", rotation=0)\n"
   ]
  },
  {
   "cell_type": "code",
   "execution_count": null,
   "metadata": {},
   "outputs": [],
   "source": []
  }
 ],
 "metadata": {
  "kernelspec": {
   "display_name": "Python 3",
   "language": "python",
   "name": "python3"
  },
  "language_info": {
   "codemirror_mode": {
    "name": "ipython",
    "version": 3
   },
   "file_extension": ".py",
   "mimetype": "text/x-python",
   "name": "python",
   "nbconvert_exporter": "python",
   "pygments_lexer": "ipython3",
   "version": "3.8.12"
  },
  "toc-showtags": false
 },
 "nbformat": 4,
 "nbformat_minor": 4
}
